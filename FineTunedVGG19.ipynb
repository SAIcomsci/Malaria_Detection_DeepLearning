{
  "cells": [
    {
      "cell_type": "markdown",
      "metadata": {
        "id": "view-in-github",
        "colab_type": "text"
      },
      "source": [
        "<a href=\"https://colab.research.google.com/github/SAIcomsci/Malaria_Detection_DeepLearning/blob/main/FineTunedVGG19.ipynb\" target=\"_parent\"><img src=\"https://colab.research.google.com/assets/colab-badge.svg\" alt=\"Open In Colab\"/></a>"
      ]
    },
    {
      "cell_type": "code",
      "execution_count": null,
      "metadata": {
        "colab": {
          "base_uri": "https://localhost:8080/"
        },
        "id": "GwxptAUaHdg5",
        "outputId": "4aed2c53-3918-4647-dbfe-338b47203a0f"
      },
      "outputs": [
        {
          "output_type": "stream",
          "name": "stdout",
          "text": [
            "Mounted at /content/drive\n"
          ]
        }
      ],
      "source": [
        "from google.colab import drive\n",
        "drive.mount('/content/drive')"
      ]
    },
    {
      "cell_type": "markdown",
      "metadata": {
        "id": "KEhrtHxpbUob"
      },
      "source": [
        "#Importing necessary libraries"
      ]
    },
    {
      "cell_type": "code",
      "execution_count": null,
      "metadata": {
        "id": "CkXIgMamH1oN"
      },
      "outputs": [],
      "source": [
        "import os\n",
        "import re\n",
        "import numpy as np\n",
        "import matplotlib.pyplot as plt\n",
        "import pandas as pd\n",
        "%matplotlib inline\n",
        "import seaborn as sns\n",
        "sns.set_style(\"whitegrid\")\n",
        "import warnings\n",
        "warnings.filterwarnings(\"ignore\")\n",
        "import tensorflow as tf\n",
        "import glob\n",
        "from tensorflow.keras.preprocessing.image import ImageDataGenerator,load_img\n",
        "from tensorflow.keras.layers import Input, Lambda, Dense, Flatten,Conv2D\n",
        "from tensorflow.keras.models import Model\n",
        "from tensorflow.keras.applications.vgg19 import VGG19\n",
        "from tensorflow.keras.applications.resnet50 import preprocess_input\n",
        "from tensorflow.keras.models import Sequential\n",
        "from tensorflow.keras.models import load_model"
      ]
    },
    {
      "cell_type": "code",
      "execution_count": null,
      "metadata": {
        "id": "Ej15-gRkH51t"
      },
      "outputs": [],
      "source": [
        "train_dir = \"/content/drive/MyDrive/Colab Notebooks/Malaria detection/MalariaDataset/cell_images/train\"\n",
        "test_dir = \"/content/drive/MyDrive/Colab Notebooks/Malaria detection/MalariaDataset/cell_images/test\"\n",
        "val_dir = \"/content/drive/MyDrive/Colab Notebooks/Malaria detection/MalariaDataset/cell_images/val\""
      ]
    },
    {
      "cell_type": "code",
      "execution_count": null,
      "metadata": {
        "id": "6T1mZK9LH-zT"
      },
      "outputs": [],
      "source": [
        "img_Datagen = ImageDataGenerator(\n",
        "        rescale = 1/255,\n",
        "        shear_range=10,\n",
        "        zoom_range=0.3,\n",
        "        horizontal_flip=True,\n",
        "        vertical_flip=True,\n",
        "        brightness_range=[0.5,1.0],\n",
        "        width_shift_range = 0.2,\n",
        "        rotation_range=20,\n",
        "        fill_mode = 'nearest'\n",
        ")\n",
        "val_Datagen = ImageDataGenerator(\n",
        "        rescale = 1/255\n",
        ")"
      ]
    },
    {
      "cell_type": "code",
      "execution_count": null,
      "metadata": {
        "colab": {
          "base_uri": "https://localhost:8080/"
        },
        "id": "JFYMgK3iIKLg",
        "outputId": "d84fbbb0-549f-4c28-a01e-6f327095a565"
      },
      "outputs": [
        {
          "output_type": "stream",
          "name": "stdout",
          "text": [
            "Found 17360 images belonging to 2 classes.\n",
            "Found 1928 images belonging to 2 classes.\n",
            "Found 8270 images belonging to 2 classes.\n"
          ]
        }
      ],
      "source": [
        "train = img_Datagen.flow_from_directory(train_dir,\n",
        "                                       batch_size=64,\n",
        "                                       class_mode='categorical',\n",
        "                                      target_size=(224,224,)\n",
        "                                       )\n",
        "\n",
        "validation = val_Datagen.flow_from_directory(val_dir,\n",
        "                                              batch_size=32,\n",
        "                                              class_mode='categorical',\n",
        "                                             target_size=(224,224,)\n",
        "                                            )\n",
        "\n",
        "test = val_Datagen.flow_from_directory(test_dir,\n",
        "                                       batch_size=64,\n",
        "                                       class_mode='categorical',\n",
        "                                        target_size=(224,224,)\n",
        "                                      )"
      ]
    },
    {
      "cell_type": "code",
      "execution_count": null,
      "metadata": {
        "colab": {
          "base_uri": "https://localhost:8080/"
        },
        "id": "j74Dj0jsJcPD",
        "outputId": "44d37b24-6fe7-4cf1-c6a0-37a30271d85d"
      },
      "outputs": [
        {
          "output_type": "stream",
          "name": "stdout",
          "text": [
            "Downloading data from https://storage.googleapis.com/tensorflow/keras-applications/vgg19/vgg19_weights_tf_dim_ordering_tf_kernels_notop.h5\n",
            "80142336/80134624 [==============================] - 0s 0us/step\n",
            "80150528/80134624 [==============================] - 0s 0us/step\n"
          ]
        }
      ],
      "source": [
        "vgg19_model = tf.keras.applications.VGG19(\n",
        "    weights='imagenet',\n",
        "    include_top = False,\n",
        "    input_shape = (224,224,3)\n",
        ")\n",
        "\n",
        "vgg19_model.trainable = True\n",
        "fine_tune_at = 17 \n",
        "\n",
        "# Freeze all the layers before the `fine_tune_at` layer\n",
        "for layer in vgg19_model.layers[:fine_tune_at]:\n",
        "  layer.trainable = False\n",
        "\n",
        "\n",
        "x = vgg19_model.output\n",
        "x = tf.keras.layers.GlobalAveragePooling2D()(x)\n",
        "x=tf.keras.layers.Dense(512,activation='relu')(x)\n",
        "# output layer\n",
        "predictions = tf.keras.layers.Dense(2,activation='sigmoid')(x)\n",
        "#MATRICS=[\n",
        "#         tf.keras.metrics.Accuracy(nmae='accuracy'),\n",
        "#         tf.keras.matrics.Precision(name='precision'),\n",
        "#        tf.keras.matrics.Recall(name='recall')\n",
        "#]\n",
        "model = tf.keras.Model(inputs=vgg19_model.input, outputs=predictions)\n",
        "model.compile(loss='categorical_crossentropy', optimizer='adam',metrics=['accuracy'])"
      ]
    },
    {
      "cell_type": "code",
      "execution_count": null,
      "metadata": {
        "colab": {
          "base_uri": "https://localhost:8080/"
        },
        "id": "dDuGMKHjRaLX",
        "outputId": "594852b0-2a78-46f6-ba7f-b0eeacbab6d6"
      },
      "outputs": [
        {
          "output_type": "stream",
          "name": "stdout",
          "text": [
            "Model: \"model\"\n",
            "_________________________________________________________________\n",
            " Layer (type)                Output Shape              Param #   \n",
            "=================================================================\n",
            " input_1 (InputLayer)        [(None, 224, 224, 3)]     0         \n",
            "                                                                 \n",
            " block1_conv1 (Conv2D)       (None, 224, 224, 64)      1792      \n",
            "                                                                 \n",
            " block1_conv2 (Conv2D)       (None, 224, 224, 64)      36928     \n",
            "                                                                 \n",
            " block1_pool (MaxPooling2D)  (None, 112, 112, 64)      0         \n",
            "                                                                 \n",
            " block2_conv1 (Conv2D)       (None, 112, 112, 128)     73856     \n",
            "                                                                 \n",
            " block2_conv2 (Conv2D)       (None, 112, 112, 128)     147584    \n",
            "                                                                 \n",
            " block2_pool (MaxPooling2D)  (None, 56, 56, 128)       0         \n",
            "                                                                 \n",
            " block3_conv1 (Conv2D)       (None, 56, 56, 256)       295168    \n",
            "                                                                 \n",
            " block3_conv2 (Conv2D)       (None, 56, 56, 256)       590080    \n",
            "                                                                 \n",
            " block3_conv3 (Conv2D)       (None, 56, 56, 256)       590080    \n",
            "                                                                 \n",
            " block3_conv4 (Conv2D)       (None, 56, 56, 256)       590080    \n",
            "                                                                 \n",
            " block3_pool (MaxPooling2D)  (None, 28, 28, 256)       0         \n",
            "                                                                 \n",
            " block4_conv1 (Conv2D)       (None, 28, 28, 512)       1180160   \n",
            "                                                                 \n",
            " block4_conv2 (Conv2D)       (None, 28, 28, 512)       2359808   \n",
            "                                                                 \n",
            " block4_conv3 (Conv2D)       (None, 28, 28, 512)       2359808   \n",
            "                                                                 \n",
            " block4_conv4 (Conv2D)       (None, 28, 28, 512)       2359808   \n",
            "                                                                 \n",
            " block4_pool (MaxPooling2D)  (None, 14, 14, 512)       0         \n",
            "                                                                 \n",
            " block5_conv1 (Conv2D)       (None, 14, 14, 512)       2359808   \n",
            "                                                                 \n",
            " block5_conv2 (Conv2D)       (None, 14, 14, 512)       2359808   \n",
            "                                                                 \n",
            " block5_conv3 (Conv2D)       (None, 14, 14, 512)       2359808   \n",
            "                                                                 \n",
            " block5_conv4 (Conv2D)       (None, 14, 14, 512)       2359808   \n",
            "                                                                 \n",
            " block5_pool (MaxPooling2D)  (None, 7, 7, 512)         0         \n",
            "                                                                 \n",
            " global_average_pooling2d (G  (None, 512)              0         \n",
            " lobalAveragePooling2D)                                          \n",
            "                                                                 \n",
            " dense (Dense)               (None, 512)               262656    \n",
            "                                                                 \n",
            " dense_1 (Dense)             (None, 2)                 1026      \n",
            "                                                                 \n",
            "=================================================================\n",
            "Total params: 20,288,066\n",
            "Trainable params: 9,702,914\n",
            "Non-trainable params: 10,585,152\n",
            "_________________________________________________________________\n"
          ]
        }
      ],
      "source": [
        "model.summary()"
      ]
    },
    {
      "cell_type": "code",
      "execution_count": null,
      "metadata": {
        "colab": {
          "base_uri": "https://localhost:8080/"
        },
        "id": "N-y69crmGwdS",
        "outputId": "c1c06d67-ef1c-4de5-972c-0cf9ab3ae19c"
      },
      "outputs": [
        {
          "name": "stdout",
          "output_type": "stream",
          "text": [
            "Number of layers in the base model:  22\n"
          ]
        }
      ],
      "source": [
        "print(\"Number of layers in the base model: \", len(vgg19_model.layers))"
      ]
    },
    {
      "cell_type": "code",
      "execution_count": null,
      "metadata": {
        "colab": {
          "base_uri": "https://localhost:8080/"
        },
        "id": "qp7GLJAOKlZn",
        "outputId": "f3830b1b-0bc4-4977-e67f-0cf29aaf8bd9"
      },
      "outputs": [
        {
          "name": "stdout",
          "output_type": "stream",
          "text": [
            "No of layers to be trained : 12\n"
          ]
        }
      ],
      "source": [
        "print(\"No of layers to be trained :\",len(model.trainable_variables))"
      ]
    },
    {
      "cell_type": "code",
      "execution_count": null,
      "metadata": {
        "colab": {
          "base_uri": "https://localhost:8080/"
        },
        "id": "MOiUeqcZMVXz",
        "outputId": "6209b42f-b557-4c88-c953-48c7a46033e7"
      },
      "outputs": [
        {
          "output_type": "stream",
          "name": "stdout",
          "text": [
            "Epoch 1/25\n",
            "272/272 [==============================] - 5030s 18s/step - loss: 0.7030 - accuracy: 0.4955 - val_loss: 0.6931 - val_accuracy: 0.5000 - lr: 0.0010\n",
            "Epoch 2/25\n",
            "272/272 [==============================] - 289s 1s/step - loss: 0.6933 - accuracy: 0.4926 - val_loss: 0.6931 - val_accuracy: 0.5000 - lr: 0.0010\n",
            "Epoch 3/25\n",
            "272/272 [==============================] - 288s 1s/step - loss: 0.6932 - accuracy: 0.4993 - val_loss: 0.6932 - val_accuracy: 0.5000 - lr: 0.0010\n",
            "Epoch 4/25\n",
            "272/272 [==============================] - 290s 1s/step - loss: 0.6932 - accuracy: 0.4965 - val_loss: 0.6932 - val_accuracy: 0.5000 - lr: 0.0010\n",
            "Epoch 5/25\n",
            "272/272 [==============================] - 289s 1s/step - loss: 0.6932 - accuracy: 0.4993 - val_loss: 0.6932 - val_accuracy: 0.5000 - lr: 0.0010\n",
            "Epoch 6/25\n",
            "272/272 [==============================] - 289s 1s/step - loss: 0.6932 - accuracy: 0.4979 - val_loss: 0.6932 - val_accuracy: 0.5000 - lr: 0.0010\n",
            "Epoch 7/25\n",
            "272/272 [==============================] - 289s 1s/step - loss: 0.6932 - accuracy: 0.4949 - val_loss: 0.6932 - val_accuracy: 0.5000 - lr: 0.0010\n",
            "Epoch 8/25\n",
            "272/272 [==============================] - 290s 1s/step - loss: 0.6932 - accuracy: 0.4917 - val_loss: 0.6931 - val_accuracy: 0.5000 - lr: 0.0010\n",
            "Epoch 9/25\n",
            "272/272 [==============================] - 290s 1s/step - loss: 0.6932 - accuracy: 0.5005 - val_loss: 0.6932 - val_accuracy: 0.5000 - lr: 0.0010\n",
            "Epoch 10/25\n",
            "272/272 [==============================] - 289s 1s/step - loss: 0.6932 - accuracy: 0.5000 - val_loss: 0.6932 - val_accuracy: 0.5000 - lr: 1.0000e-04\n",
            "Epoch 11/25\n",
            "272/272 [==============================] - 288s 1s/step - loss: 0.6932 - accuracy: 0.5000 - val_loss: 0.6932 - val_accuracy: 0.5000 - lr: 1.0000e-04\n"
          ]
        }
      ],
      "source": [
        "\n",
        "total_epochs=25\n",
        "early_stopping = tf.keras.callbacks.EarlyStopping(monitor='val_loss',patience=10)\n",
        "lr = tf.keras.callbacks.ReduceLROnPlateau(monitor='val_loss',patience=8)\n",
        "\n",
        "history_fine =model.fit(train,epochs=total_epochs, \n",
        "                    validation_data=validation,\n",
        "                    #steps_per_epoch=100,\n",
        "                    callbacks=[early_stopping,lr],\n",
        "                    batch_size=64\n",
        "                    )\n",
        "\n",
        "model.save(\"Fine_tuned_VGG19.h5\")\n",
        "\n",
        "\n"
      ]
    },
    {
      "cell_type": "code",
      "execution_count": null,
      "metadata": {
        "id": "4B5pGnNwK0vE"
      },
      "outputs": [],
      "source": [
        "model=load_model('Fine_tuned_VGG19.h5')"
      ]
    },
    {
      "cell_type": "code",
      "execution_count": null,
      "metadata": {
        "colab": {
          "base_uri": "https://localhost:8080/"
        },
        "id": "Yh5FXa25tB6R",
        "outputId": "9840ab8d-fb74-404f-b307-b18b525e9ffb"
      },
      "outputs": [
        {
          "name": "stdout",
          "output_type": "stream",
          "text": [
            "272/272 [==============================] - 270s 991ms/step - loss: 0.1541 - accuracy: 0.9467\n",
            "Train Loss:  0.1541285663843155\n",
            "Train Accuracy:  0.9467166066169739\n"
          ]
        }
      ],
      "source": [
        "# Evaluating the model on train and test\n",
        "score = model.evaluate(train)\n",
        "\n",
        "print(\"Train Loss: \", score[0])\n",
        "print(\"Train Accuracy: \", score[1])"
      ]
    },
    {
      "cell_type": "code",
      "execution_count": null,
      "metadata": {
        "colab": {
          "base_uri": "https://localhost:8080/"
        },
        "id": "IdLwfLgDtoQv",
        "outputId": "7d3fdda3-570d-41d5-8d5d-63af0ddc0a02"
      },
      "outputs": [
        {
          "name": "stdout",
          "output_type": "stream",
          "text": [
            "130/130 [==============================] - 1961s 15s/step - loss: 0.1172 - accuracy: 0.9608\n",
            "Test Loss:  0.11722618341445923\n",
            "Test Accuracy:  0.9608222246170044\n"
          ]
        }
      ],
      "source": [
        "# Test data\n",
        "score = model.evaluate(test)\n",
        "\n",
        "print(\"Test Loss: \", score[0])\n",
        "print(\"Test Accuracy: \", score[1])"
      ]
    },
    {
      "cell_type": "code",
      "execution_count": null,
      "metadata": {
        "colab": {
          "base_uri": "https://localhost:8080/",
          "height": 279
        },
        "id": "ncWRD3iPx4Vl",
        "outputId": "ff2568b7-a90d-4191-a525-4d2b02978a9e"
      },
      "outputs": [
        {
          "data": {
            "text/plain": [
              "Text(0.5, 1.0, 'Accuracy Evolution')"
            ]
          },
          "execution_count": 10,
          "metadata": {},
          "output_type": "execute_result"
        },
        {
          "data": {
            "image/png": "[encoded data removed]",
            "text/plain": [
              "<Figure size 864x576 with 2 Axes>"
            ]
          },
          "metadata": {},
          "output_type": "display_data"
        }
      ],
      "source": [
        "plt.figure(figsize=(12, 8))\n",
        "plt.title('EVALUATION OF Fine_tunedVGG19')\n",
        "\n",
        "plt.subplot(2, 2, 1)\n",
        "plt.plot(history_fine.history['loss'], label='Loss')\n",
        "plt.plot(history_fine.history['val_loss'], label='Val_Loss')\n",
        "plt.legend()\n",
        "plt.title('Loss Evolution')\n",
        "\n",
        "plt.subplot(2, 2, 2)\n",
        "plt.plot(history_fine.history['accuracy'], label='Accuracy')\n",
        "plt.plot(history_fine.history['val_accuracy'], label='Val_Accuracy')\n",
        "plt.legend()\n",
        "plt.title('Accuracy Evolution')"
      ]
    }
  ],
  "metadata": {
    "accelerator": "GPU",
    "colab": {
      "collapsed_sections": [],
      "name": "FineTunedVGG19.ipynb",
      "toc_visible": true,
      "provenance": [],
      "authorship_tag": "ABX9TyO8gdFO3gu9F9t+/tCv6bH2",
      "include_colab_link": true
    },
    "gpuClass": "standard",
    "kernelspec": {
      "display_name": "Python 3",
      "name": "python3"
    },
    "language_info": {
      "name": "python"
    }
  },
  "nbformat": 4,
  "nbformat_minor": 0
}